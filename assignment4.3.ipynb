{
  "nbformat": 4,
  "nbformat_minor": 0,
  "metadata": {
    "colab": {
      "provenance": [],
      "authorship_tag": "ABX9TyP7Wh2lGTCK9aoSxTTTpcaQ",
      "include_colab_link": true
    },
    "kernelspec": {
      "name": "python3",
      "display_name": "Python 3"
    },
    "language_info": {
      "name": "python"
    }
  },
  "cells": [
    {
      "cell_type": "markdown",
      "metadata": {
        "id": "view-in-github",
        "colab_type": "text"
      },
      "source": [
        "<a href=\"https://colab.research.google.com/github/Maity-Naveen/assignmen_t1.2/blob/main/assignment4.3.ipynb\" target=\"_parent\"><img src=\"https://colab.research.google.com/assets/colab-badge.svg\" alt=\"Open In Colab\"/></a>"
      ]
    },
    {
      "cell_type": "markdown",
      "source": [
        "**Task Description#1**\n",
        "• Zero-shot: Prompt AI to write a function that checks whether a given year is a leap\n",
        "year.\n"
      ],
      "metadata": {
        "id": "SEBah7dCLbHz"
      }
    },
    {
      "cell_type": "markdown",
      "source": [
        "**prompt** :Generate a python code for a function that checks whether a given year is a leap year with dainamic input"
      ],
      "metadata": {
        "id": "790Y_c78UNZ6"
      }
    },
    {
      "cell_type": "code",
      "metadata": {
        "colab": {
          "base_uri": "https://localhost:8080/"
        },
        "id": "fd4daeee",
        "outputId": "2f57f6dc-2a3f-402f-9c6a-7c1de5fbf7ed"
      },
      "source": [
        "def is_leap_year(year):\n",
        "  \"\"\"Checks if a given year is a leap year.\n",
        "\n",
        "  Args:\n",
        "    year: The year to check (integer).\n",
        "\n",
        "  Returns:\n",
        "    True if the year is a leap year, False otherwise.\n",
        "  \"\"\"\n",
        "  if (year % 4 == 0 and year % 100 != 0) or (year % 400 == 0):\n",
        "    return True\n",
        "  else:\n",
        "    return False\n",
        "\n",
        "# Get dynamic input from the user\n",
        "year_to_check = int(input(\"Enter a year to check if it's a leap year: \"))\n",
        "\n",
        "if is_leap_year(year_to_check):\n",
        "  print(f\"{year_to_check} is a leap year.\")\n",
        "else:\n",
        "  print(f\"{year_to_check} is not a leap year.\")"
      ],
      "execution_count": null,
      "outputs": [
        {
          "output_type": "stream",
          "name": "stdout",
          "text": [
            "Enter a year to check if it's a leap year: 2003\n",
            "2003 is not a leap year.\n"
          ]
        }
      ]
    },
    {
      "cell_type": "markdown",
      "source": [
        "**Task Description#2**\n",
        "• One-shot: Give one input-output example to guide AI in writing a function that\n",
        "converts centimeters to inches.\n",
        "\n",
        "**prompt** :\n",
        "1 cm = 0.393701 now create a python code for this type convertion\n"
      ],
      "metadata": {
        "id": "CPTMAZwxUgTg"
      }
    },
    {
      "cell_type": "code",
      "metadata": {
        "colab": {
          "base_uri": "https://localhost:8080/"
        },
        "id": "b95bf2b9",
        "outputId": "1a0bbe65-a823-4f60-99ca-a8c9b4332ec3"
      },
      "source": [
        "def cm_to_inches(cm):\n",
        "  \"\"\"Converts centimeters to inches.\n",
        "\n",
        "  Args:\n",
        "    cm: The value in centimeters (float or integer).\n",
        "\n",
        "  Returns:\n",
        "    The value in inches (float).\n",
        "  \"\"\"\n",
        "  inches = cm * 0.393701\n",
        "  return inches\n",
        "\n",
        "# Get dynamic input from the user\n",
        "cm_to_convert = float(input(\"Enter the value in centimeters to convert to inches: \"))\n",
        "\n",
        "# Perform the conversion and display the result\n",
        "inches_result = cm_to_inches(cm_to_convert)\n",
        "print(f\"{cm_to_convert} centimeters is equal to {inches_result} inches.\")"
      ],
      "execution_count": null,
      "outputs": [
        {
          "output_type": "stream",
          "name": "stdout",
          "text": [
            "Enter the value in centimeters to convert to inches: 12\n",
            "12.0 centimeters is equal to 4.724412 inches.\n"
          ]
        }
      ]
    },
    {
      "cell_type": "markdown",
      "source": [
        "**Task Description#3**\n",
        "• Few-shot: Provide 2–3 examples to generate a function that formats full names as\n",
        "“Last, First”.\n",
        "\n",
        "**prompt :** \"Jane Doe\" becomes \"Doe, Jane\" \"Robert Jones\" becomes \"Jones, Robert\" \"Mary Brown\" becomes \"Brown, Mary\" generate a python function that formats full names as “Last, First”. as examples but visually better way"
      ],
      "metadata": {
        "id": "T4OrpaZ-Z1f9"
      }
    },
    {
      "cell_type": "code",
      "metadata": {
        "colab": {
          "base_uri": "https://localhost:8080/",
          "height": 175
        },
        "id": "fe22b0c9",
        "outputId": "97abc927-036e-4c3d-ce1f-3e68e45be9fa"
      },
      "source": [
        "import pandas as pd\n",
        "\n",
        "# New examples to test the format_name function\n",
        "names_to_format = [\n",
        "    \"Alice Wonderland\",\n",
        "    \"Peter Pan\",\n",
        "    \"Sherlock Holmes\",\n",
        "    \"John Smith Jr.\" # Example with more than two parts\n",
        "]\n",
        "\n",
        "formatted_names_data = []\n",
        "for name in names_to_format:\n",
        "  formatted_name = format_name(name)\n",
        "  formatted_names_data.append({\"Original Name\": name, \"Formatted Name\": formatted_name})\n",
        "\n",
        "# Create a pandas DataFrame for a visually appealing output\n",
        "formatted_names_df = pd.DataFrame(formatted_names_data)\n",
        "\n",
        "# Display the DataFrame\n",
        "display(formatted_names_df)"
      ],
      "execution_count": null,
      "outputs": [
        {
          "output_type": "display_data",
          "data": {
            "text/plain": [
              "      Original Name     Formatted Name\n",
              "0  Alice Wonderland  Wonderland, Alice\n",
              "1         Peter Pan         Pan, Peter\n",
              "2   Sherlock Holmes   Holmes, Sherlock\n",
              "3    John Smith Jr.          Jr., John"
            ],
            "text/html": [
              "\n",
              "  <div id=\"df-c5579e68-eba4-47bd-9b95-a6a8af802b66\" class=\"colab-df-container\">\n",
              "    <div>\n",
              "<style scoped>\n",
              "    .dataframe tbody tr th:only-of-type {\n",
              "        vertical-align: middle;\n",
              "    }\n",
              "\n",
              "    .dataframe tbody tr th {\n",
              "        vertical-align: top;\n",
              "    }\n",
              "\n",
              "    .dataframe thead th {\n",
              "        text-align: right;\n",
              "    }\n",
              "</style>\n",
              "<table border=\"1\" class=\"dataframe\">\n",
              "  <thead>\n",
              "    <tr style=\"text-align: right;\">\n",
              "      <th></th>\n",
              "      <th>Original Name</th>\n",
              "      <th>Formatted Name</th>\n",
              "    </tr>\n",
              "  </thead>\n",
              "  <tbody>\n",
              "    <tr>\n",
              "      <th>0</th>\n",
              "      <td>Alice Wonderland</td>\n",
              "      <td>Wonderland, Alice</td>\n",
              "    </tr>\n",
              "    <tr>\n",
              "      <th>1</th>\n",
              "      <td>Peter Pan</td>\n",
              "      <td>Pan, Peter</td>\n",
              "    </tr>\n",
              "    <tr>\n",
              "      <th>2</th>\n",
              "      <td>Sherlock Holmes</td>\n",
              "      <td>Holmes, Sherlock</td>\n",
              "    </tr>\n",
              "    <tr>\n",
              "      <th>3</th>\n",
              "      <td>John Smith Jr.</td>\n",
              "      <td>Jr., John</td>\n",
              "    </tr>\n",
              "  </tbody>\n",
              "</table>\n",
              "</div>\n",
              "    <div class=\"colab-df-buttons\">\n",
              "\n",
              "  <div class=\"colab-df-container\">\n",
              "    <button class=\"colab-df-convert\" onclick=\"convertToInteractive('df-c5579e68-eba4-47bd-9b95-a6a8af802b66')\"\n",
              "            title=\"Convert this dataframe to an interactive table.\"\n",
              "            style=\"display:none;\">\n",
              "\n",
              "  <svg xmlns=\"http://www.w3.org/2000/svg\" height=\"24px\" viewBox=\"0 -960 960 960\">\n",
              "    <path d=\"M120-120v-720h720v720H120Zm60-500h600v-160H180v160Zm220 220h160v-160H400v160Zm0 220h160v-160H400v160ZM180-400h160v-160H180v160Zm440 0h160v-160H620v160ZM180-180h160v-160H180v160Zm440 0h160v-160H620v160Z\"/>\n",
              "  </svg>\n",
              "    </button>\n",
              "\n",
              "  <style>\n",
              "    .colab-df-container {\n",
              "      display:flex;\n",
              "      gap: 12px;\n",
              "    }\n",
              "\n",
              "    .colab-df-convert {\n",
              "      background-color: #E8F0FE;\n",
              "      border: none;\n",
              "      border-radius: 50%;\n",
              "      cursor: pointer;\n",
              "      display: none;\n",
              "      fill: #1967D2;\n",
              "      height: 32px;\n",
              "      padding: 0 0 0 0;\n",
              "      width: 32px;\n",
              "    }\n",
              "\n",
              "    .colab-df-convert:hover {\n",
              "      background-color: #E2EBFA;\n",
              "      box-shadow: 0px 1px 2px rgba(60, 64, 67, 0.3), 0px 1px 3px 1px rgba(60, 64, 67, 0.15);\n",
              "      fill: #174EA6;\n",
              "    }\n",
              "\n",
              "    .colab-df-buttons div {\n",
              "      margin-bottom: 4px;\n",
              "    }\n",
              "\n",
              "    [theme=dark] .colab-df-convert {\n",
              "      background-color: #3B4455;\n",
              "      fill: #D2E3FC;\n",
              "    }\n",
              "\n",
              "    [theme=dark] .colab-df-convert:hover {\n",
              "      background-color: #434B5C;\n",
              "      box-shadow: 0px 1px 3px 1px rgba(0, 0, 0, 0.15);\n",
              "      filter: drop-shadow(0px 1px 2px rgba(0, 0, 0, 0.3));\n",
              "      fill: #FFFFFF;\n",
              "    }\n",
              "  </style>\n",
              "\n",
              "    <script>\n",
              "      const buttonEl =\n",
              "        document.querySelector('#df-c5579e68-eba4-47bd-9b95-a6a8af802b66 button.colab-df-convert');\n",
              "      buttonEl.style.display =\n",
              "        google.colab.kernel.accessAllowed ? 'block' : 'none';\n",
              "\n",
              "      async function convertToInteractive(key) {\n",
              "        const element = document.querySelector('#df-c5579e68-eba4-47bd-9b95-a6a8af802b66');\n",
              "        const dataTable =\n",
              "          await google.colab.kernel.invokeFunction('convertToInteractive',\n",
              "                                                    [key], {});\n",
              "        if (!dataTable) return;\n",
              "\n",
              "        const docLinkHtml = 'Like what you see? Visit the ' +\n",
              "          '<a target=\"_blank\" href=https://colab.research.google.com/notebooks/data_table.ipynb>data table notebook</a>'\n",
              "          + ' to learn more about interactive tables.';\n",
              "        element.innerHTML = '';\n",
              "        dataTable['output_type'] = 'display_data';\n",
              "        await google.colab.output.renderOutput(dataTable, element);\n",
              "        const docLink = document.createElement('div');\n",
              "        docLink.innerHTML = docLinkHtml;\n",
              "        element.appendChild(docLink);\n",
              "      }\n",
              "    </script>\n",
              "  </div>\n",
              "\n",
              "\n",
              "    <div id=\"df-a3b980e7-6b0c-4a15-8878-c320149d6fef\">\n",
              "      <button class=\"colab-df-quickchart\" onclick=\"quickchart('df-a3b980e7-6b0c-4a15-8878-c320149d6fef')\"\n",
              "                title=\"Suggest charts\"\n",
              "                style=\"display:none;\">\n",
              "\n",
              "<svg xmlns=\"http://www.w3.org/2000/svg\" height=\"24px\"viewBox=\"0 0 24 24\"\n",
              "     width=\"24px\">\n",
              "    <g>\n",
              "        <path d=\"M19 3H5c-1.1 0-2 .9-2 2v14c0 1.1.9 2 2 2h14c1.1 0 2-.9 2-2V5c0-1.1-.9-2-2-2zM9 17H7v-7h2v7zm4 0h-2V7h2v10zm4 0h-2v-4h2v4z\"/>\n",
              "    </g>\n",
              "</svg>\n",
              "      </button>\n",
              "\n",
              "<style>\n",
              "  .colab-df-quickchart {\n",
              "      --bg-color: #E8F0FE;\n",
              "      --fill-color: #1967D2;\n",
              "      --hover-bg-color: #E2EBFA;\n",
              "      --hover-fill-color: #174EA6;\n",
              "      --disabled-fill-color: #AAA;\n",
              "      --disabled-bg-color: #DDD;\n",
              "  }\n",
              "\n",
              "  [theme=dark] .colab-df-quickchart {\n",
              "      --bg-color: #3B4455;\n",
              "      --fill-color: #D2E3FC;\n",
              "      --hover-bg-color: #434B5C;\n",
              "      --hover-fill-color: #FFFFFF;\n",
              "      --disabled-bg-color: #3B4455;\n",
              "      --disabled-fill-color: #666;\n",
              "  }\n",
              "\n",
              "  .colab-df-quickchart {\n",
              "    background-color: var(--bg-color);\n",
              "    border: none;\n",
              "    border-radius: 50%;\n",
              "    cursor: pointer;\n",
              "    display: none;\n",
              "    fill: var(--fill-color);\n",
              "    height: 32px;\n",
              "    padding: 0;\n",
              "    width: 32px;\n",
              "  }\n",
              "\n",
              "  .colab-df-quickchart:hover {\n",
              "    background-color: var(--hover-bg-color);\n",
              "    box-shadow: 0 1px 2px rgba(60, 64, 67, 0.3), 0 1px 3px 1px rgba(60, 64, 67, 0.15);\n",
              "    fill: var(--button-hover-fill-color);\n",
              "  }\n",
              "\n",
              "  .colab-df-quickchart-complete:disabled,\n",
              "  .colab-df-quickchart-complete:disabled:hover {\n",
              "    background-color: var(--disabled-bg-color);\n",
              "    fill: var(--disabled-fill-color);\n",
              "    box-shadow: none;\n",
              "  }\n",
              "\n",
              "  .colab-df-spinner {\n",
              "    border: 2px solid var(--fill-color);\n",
              "    border-color: transparent;\n",
              "    border-bottom-color: var(--fill-color);\n",
              "    animation:\n",
              "      spin 1s steps(1) infinite;\n",
              "  }\n",
              "\n",
              "  @keyframes spin {\n",
              "    0% {\n",
              "      border-color: transparent;\n",
              "      border-bottom-color: var(--fill-color);\n",
              "      border-left-color: var(--fill-color);\n",
              "    }\n",
              "    20% {\n",
              "      border-color: transparent;\n",
              "      border-left-color: var(--fill-color);\n",
              "      border-top-color: var(--fill-color);\n",
              "    }\n",
              "    30% {\n",
              "      border-color: transparent;\n",
              "      border-left-color: var(--fill-color);\n",
              "      border-top-color: var(--fill-color);\n",
              "      border-right-color: var(--fill-color);\n",
              "    }\n",
              "    40% {\n",
              "      border-color: transparent;\n",
              "      border-right-color: var(--fill-color);\n",
              "      border-top-color: var(--fill-color);\n",
              "    }\n",
              "    60% {\n",
              "      border-color: transparent;\n",
              "      border-right-color: var(--fill-color);\n",
              "    }\n",
              "    80% {\n",
              "      border-color: transparent;\n",
              "      border-right-color: var(--fill-color);\n",
              "      border-bottom-color: var(--fill-color);\n",
              "    }\n",
              "    90% {\n",
              "      border-color: transparent;\n",
              "      border-bottom-color: var(--fill-color);\n",
              "    }\n",
              "  }\n",
              "</style>\n",
              "\n",
              "      <script>\n",
              "        async function quickchart(key) {\n",
              "          const quickchartButtonEl =\n",
              "            document.querySelector('#' + key + ' button');\n",
              "          quickchartButtonEl.disabled = true;  // To prevent multiple clicks.\n",
              "          quickchartButtonEl.classList.add('colab-df-spinner');\n",
              "          try {\n",
              "            const charts = await google.colab.kernel.invokeFunction(\n",
              "                'suggestCharts', [key], {});\n",
              "          } catch (error) {\n",
              "            console.error('Error during call to suggestCharts:', error);\n",
              "          }\n",
              "          quickchartButtonEl.classList.remove('colab-df-spinner');\n",
              "          quickchartButtonEl.classList.add('colab-df-quickchart-complete');\n",
              "        }\n",
              "        (() => {\n",
              "          let quickchartButtonEl =\n",
              "            document.querySelector('#df-a3b980e7-6b0c-4a15-8878-c320149d6fef button');\n",
              "          quickchartButtonEl.style.display =\n",
              "            google.colab.kernel.accessAllowed ? 'block' : 'none';\n",
              "        })();\n",
              "      </script>\n",
              "    </div>\n",
              "\n",
              "  <div id=\"id_0440bfd4-9d07-4ac6-ab7a-34fb6ccb8559\">\n",
              "    <style>\n",
              "      .colab-df-generate {\n",
              "        background-color: #E8F0FE;\n",
              "        border: none;\n",
              "        border-radius: 50%;\n",
              "        cursor: pointer;\n",
              "        display: none;\n",
              "        fill: #1967D2;\n",
              "        height: 32px;\n",
              "        padding: 0 0 0 0;\n",
              "        width: 32px;\n",
              "      }\n",
              "\n",
              "      .colab-df-generate:hover {\n",
              "        background-color: #E2EBFA;\n",
              "        box-shadow: 0px 1px 2px rgba(60, 64, 67, 0.3), 0px 1px 3px 1px rgba(60, 64, 67, 0.15);\n",
              "        fill: #174EA6;\n",
              "      }\n",
              "\n",
              "      [theme=dark] .colab-df-generate {\n",
              "        background-color: #3B4455;\n",
              "        fill: #D2E3FC;\n",
              "      }\n",
              "\n",
              "      [theme=dark] .colab-df-generate:hover {\n",
              "        background-color: #434B5C;\n",
              "        box-shadow: 0px 1px 3px 1px rgba(0, 0, 0, 0.15);\n",
              "        filter: drop-shadow(0px 1px 2px rgba(0, 0, 0, 0.3));\n",
              "        fill: #FFFFFF;\n",
              "      }\n",
              "    </style>\n",
              "    <button class=\"colab-df-generate\" onclick=\"generateWithVariable('formatted_names_df')\"\n",
              "            title=\"Generate code using this dataframe.\"\n",
              "            style=\"display:none;\">\n",
              "\n",
              "  <svg xmlns=\"http://www.w3.org/2000/svg\" height=\"24px\"viewBox=\"0 0 24 24\"\n",
              "       width=\"24px\">\n",
              "    <path d=\"M7,19H8.4L18.45,9,17,7.55,7,17.6ZM5,21V16.75L18.45,3.32a2,2,0,0,1,2.83,0l1.4,1.43a1.91,1.91,0,0,1,.58,1.4,1.91,1.91,0,0,1-.58,1.4L9.25,21ZM18.45,9,17,7.55Zm-12,3A5.31,5.31,0,0,0,4.9,8.1,5.31,5.31,0,0,0,1,6.5,5.31,5.31,0,0,0,4.9,4.9,5.31,5.31,0,0,0,6.5,1,5.31,5.31,0,0,0,8.1,4.9,5.31,5.31,0,0,0,12,6.5,5.46,5.46,0,0,0,6.5,12Z\"/>\n",
              "  </svg>\n",
              "    </button>\n",
              "    <script>\n",
              "      (() => {\n",
              "      const buttonEl =\n",
              "        document.querySelector('#id_0440bfd4-9d07-4ac6-ab7a-34fb6ccb8559 button.colab-df-generate');\n",
              "      buttonEl.style.display =\n",
              "        google.colab.kernel.accessAllowed ? 'block' : 'none';\n",
              "\n",
              "      buttonEl.onclick = () => {\n",
              "        google.colab.notebook.generateWithVariable('formatted_names_df');\n",
              "      }\n",
              "      })();\n",
              "    </script>\n",
              "  </div>\n",
              "\n",
              "    </div>\n",
              "  </div>\n"
            ],
            "application/vnd.google.colaboratory.intrinsic+json": {
              "type": "dataframe",
              "variable_name": "formatted_names_df",
              "summary": "{\n  \"name\": \"formatted_names_df\",\n  \"rows\": 4,\n  \"fields\": [\n    {\n      \"column\": \"Original Name\",\n      \"properties\": {\n        \"dtype\": \"string\",\n        \"num_unique_values\": 4,\n        \"samples\": [\n          \"Peter Pan\",\n          \"John Smith Jr.\",\n          \"Alice Wonderland\"\n        ],\n        \"semantic_type\": \"\",\n        \"description\": \"\"\n      }\n    },\n    {\n      \"column\": \"Formatted Name\",\n      \"properties\": {\n        \"dtype\": \"string\",\n        \"num_unique_values\": 4,\n        \"samples\": [\n          \"Pan, Peter\",\n          \"Jr., John\",\n          \"Wonderland, Alice\"\n        ],\n        \"semantic_type\": \"\",\n        \"description\": \"\"\n      }\n    }\n  ]\n}"
            }
          },
          "metadata": {}
        }
      ]
    },
    {
      "cell_type": "markdown",
      "source": [],
      "metadata": {
        "id": "2mzaBtMxZfJM"
      }
    },
    {
      "cell_type": "markdown",
      "source": [
        "**Task Description#4**\n",
        "• Compare zero-shot and few-shot prompts for writing a function that counts the\n",
        "number of vowels in a string."
      ],
      "metadata": {
        "id": "8uNkheZ7doaH"
      }
    },
    {
      "cell_type": "markdown",
      "source": [
        "**with zwro-shot PROMPT : **Write a python function that counts the number of vowels in a string."
      ],
      "metadata": {
        "id": "Gxt13caqe-7t"
      }
    },
    {
      "cell_type": "code",
      "metadata": {
        "colab": {
          "base_uri": "https://localhost:8080/"
        },
        "id": "e809e727",
        "outputId": "258a219e-9ab9-4ade-ffb3-84591120a153"
      },
      "source": [
        "def count_vowels(text):\n",
        "  \"\"\"Counts the number of vowels in a string.\n",
        "\n",
        "  Args:\n",
        "    text: The input string.\n",
        "\n",
        "  Returns:\n",
        "    The number of vowels in the string (integer).\n",
        "  \"\"\"\n",
        "  vowels = \"aeiouAEIOU\"\n",
        "  vowel_count = 0\n",
        "  for char in text:\n",
        "    if char in vowels:\n",
        "      vowel_count += 1\n",
        "  return vowel_count\n",
        "\n",
        "# Get dynamic input from the user (optional)\n",
        "# input_string = input(\"Enter a string to count the vowels: \")\n",
        "# num_vowels = count_vowels(input_string)\n",
        "# print(f\"The number of vowels in '{input_string}' is: {num_vowels}\")\n",
        "\n",
        "# Example usage:\n",
        "print(f\"Number of vowels in 'Hello World': {count_vowels('Hello World')}\")\n",
        "print(f\"Number of vowels in 'Programming is fun': {count_vowels('Programming is fun')}\")"
      ],
      "execution_count": null,
      "outputs": [
        {
          "output_type": "stream",
          "name": "stdout",
          "text": [
            "Number of vowels in 'Hello World': 3\n",
            "Number of vowels in 'Programming is fun': 5\n"
          ]
        }
      ]
    },
    {
      "cell_type": "markdown",
      "source": [
        "**with FEW-shot PROMPT : ** Number of vowels in 'Hello World': 3\n",
        "Number of vowels in 'Programming is fun': 5\n",
        "\n",
        "like this generate a python function\n"
      ],
      "metadata": {
        "id": "dZpaBAohbbOK"
      }
    },
    {
      "cell_type": "code",
      "metadata": {
        "colab": {
          "base_uri": "https://localhost:8080/"
        },
        "id": "331bc6e9",
        "outputId": "c950315c-284c-433c-d15a-1b8ade9ff2a7"
      },
      "source": [
        "def count_vowels_few_shot(text):\n",
        "  \"\"\"Counts the number of vowels in a string using a few-shot approach.\n",
        "\n",
        "  Examples:\n",
        "  \"Hello World\" -> 3\n",
        "  \"Programming is fun\" -> 5\n",
        "  \"AEIOU\" -> 5\n",
        "\n",
        "  Args:\n",
        "    text: The input string.\n",
        "\n",
        "  Returns:\n",
        "    The number of vowels in the string (integer).\n",
        "  \"\"\"\n",
        "  vowels = \"aeiouAEIOU\"\n",
        "  vowel_count = 0\n",
        "  for char in text:\n",
        "    if char in vowels:\n",
        "      vowel_count += 1\n",
        "  return vowel_count\n",
        "\n",
        "# Example usage based on the few-shot prompt:\n",
        "print(f\"Number of vowels in 'Hello World': {count_vowels_few_shot('Hello World')}\")\n",
        "print(f\"Number of vowels in 'Programming is fun': {count_vowels_few_shot('Programming is fun')}\")\n",
        "print(f\"Number of vowels in 'AEIOU': {count_vowels_few_shot('AEIOU')}\")"
      ],
      "execution_count": 1,
      "outputs": [
        {
          "output_type": "stream",
          "name": "stdout",
          "text": [
            "Number of vowels in 'Hello World': 3\n",
            "Number of vowels in 'Programming is fun': 5\n",
            "Number of vowels in 'AEIOU': 5\n"
          ]
        }
      ]
    },
    {
      "cell_type": "markdown",
      "source": [
        "**Task Description#5**\n",
        "• Use few-shot prompting to generate a function that reads a .txt file and returns the\n",
        "number of lines.\n",
        "**Prompt :**\n",
        "\"Number of words in 'Hello World': 2 Number of words in 'Python programming': 2 Now generate a Python function that reads a .txt file and returns the number of lines.\""
      ],
      "metadata": {
        "id": "MQ4qeSdVdaYB"
      }
    },
    {
      "cell_type": "code",
      "source": [
        "def count_lines_in_file(filename):\n",
        "  \"\"\"Reads a .txt file and returns the number of lines.\n",
        "\n",
        "  Examples:\n",
        "  File 'sample.txt' with content:\n",
        "  'Line 1\\nLine 2\\nLine 3' -> 3 lines\n",
        "  File 'another_file.txt' with content:\n",
        "  'Hello World\\nPython programming' -> 2 lines\n",
        "\n",
        "  Args:\n",
        "    filename: The name of the text file.\n",
        "\n",
        "  Returns:\n",
        "    The number of lines in the file (integer).\n",
        "  \"\"\"\n",
        "  try:\n",
        "    with open(filename, 'r') as f:\n",
        "      lines = f.readlines()\n",
        "      return len(lines)\n",
        "  except FileNotFoundError:\n",
        "    return f\"Error: File '{filename}' not found.\"\n",
        "\n",
        "# Create a dummy text file for demonstration\n",
        "with open('sample_for_lines.txt', 'w') as f:\n",
        "  f.write(\"This is the first line.\\n\")\n",
        "  f.write(\"This is the second line.\\n\")\n",
        "  f.write(\"And this is the third line.\")\n",
        "\n",
        "# Example usage with the dummy file\n",
        "file_name = 'sample_for_lines.txt'\n",
        "num_lines = count_lines_in_file(file_name)\n",
        "print(f\"Number of lines in '{file_name}': {num_lines}\")\n",
        "\n",
        "# Example with a non-existent file\n",
        "non_existent_file = 'non_existent_for_lines.txt'\n",
        "num_lines_non_existent = count_lines_in_file(non_existent_file)\n",
        "print(num_lines_non_existent)"
      ],
      "metadata": {
        "colab": {
          "base_uri": "https://localhost:8080/"
        },
        "id": "muounqeBhva6",
        "outputId": "649631f3-351f-45f6-ed66-2c3c2c9d997f"
      },
      "execution_count": 2,
      "outputs": [
        {
          "output_type": "stream",
          "name": "stdout",
          "text": [
            "Number of lines in 'sample_for_lines.txt': 3\n",
            "Error: File 'non_existent_for_lines.txt' not found.\n"
          ]
        }
      ]
    }
  ]
}